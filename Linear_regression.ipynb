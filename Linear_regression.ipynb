{
  "nbformat": 4,
  "nbformat_minor": 0,
  "metadata": {
    "colab": {
      "provenance": []
    },
    "kernelspec": {
      "name": "python3",
      "display_name": "Python 3"
    },
    "language_info": {
      "name": "python"
    }
  },
  "cells": [
    {
      "cell_type": "code",
      "execution_count": null,
      "metadata": {
        "id": "Ia2JJeT4dB9m"
      },
      "outputs": [],
      "source": [
        "# ------------------------------------------\n",
        "# 1. Import Libraries\n",
        "# ------------------------------------------\n",
        "from pyspark.sql import SparkSession\n",
        "from pyspark.sql.functions import col, when, sum\n",
        "from pyspark.ml.feature import VectorAssembler, StringIndexer, OneHotEncoder\n",
        "from pyspark.ml.regression import LinearRegression\n",
        "from pyspark.ml.evaluation import RegressionEvaluator\n",
        "\n",
        "import pandas as pd\n",
        "import matplotlib.pyplot as plt\n",
        "import seaborn as sns"
      ]
    },
    {
      "cell_type": "code",
      "source": [
        "# ------------------------------------------\n",
        "# 2. Initialize Spark Session\n",
        "# ------------------------------------------\n",
        "spark = SparkSession.builder \\\n",
        "    .appName(\"Crop Yield Prediction - Linear Regression\") \\\n",
        "    .config(\"spark.executor.memory\", \"4g\") \\\n",
        "    .config(\"spark.driver.memory\", \"4g\") \\\n",
        "    .getOrCreate()"
      ],
      "metadata": {
        "id": "cES_LU7nplb3"
      },
      "execution_count": null,
      "outputs": []
    },
    {
      "cell_type": "code",
      "source": [
        "# ------------------------------------------\n",
        "# 3. Load dataset\n",
        "# ------------------------------------------\n",
        "file_path = \"crop_yield.csv\"\n",
        "data = spark.read.csv(file_path, header=True, inferSchema=True)\n",
        "\n",
        "if data.count() > 0:\n",
        "    print(\"Dataset loaded successfully!\")\n",
        "else:\n",
        "    print(\"No data found in the dataset.\")\n"
      ],
      "metadata": {
        "colab": {
          "base_uri": "https://localhost:8080/"
        },
        "id": "Q0erH_1OplJw",
        "outputId": "d18abaf2-4ffa-4e9d-867a-7b3b968edd80"
      },
      "execution_count": null,
      "outputs": [
        {
          "output_type": "stream",
          "name": "stdout",
          "text": [
            "Dataset loaded successfully!\n"
          ]
        }
      ]
    },
    {
      "cell_type": "code",
      "source": [
        "# Display dataset schema\n",
        "data.printSchema()"
      ],
      "metadata": {
        "colab": {
          "base_uri": "https://localhost:8080/"
        },
        "id": "ZmIMlfiOplHJ",
        "outputId": "aa072990-4a34-447e-9735-81559059da5e"
      },
      "execution_count": null,
      "outputs": [
        {
          "output_type": "stream",
          "name": "stdout",
          "text": [
            "root\n",
            " |-- Region: string (nullable = true)\n",
            " |-- Soil_Type: string (nullable = true)\n",
            " |-- Crop: string (nullable = true)\n",
            " |-- Rainfall_mm: double (nullable = true)\n",
            " |-- Temperature_Celsius: double (nullable = true)\n",
            " |-- Fertilizer_Used: boolean (nullable = true)\n",
            " |-- Irrigation_Used: boolean (nullable = true)\n",
            " |-- Weather_Condition: string (nullable = true)\n",
            " |-- Days_to_Harvest: integer (nullable = true)\n",
            " |-- Yield_tons_per_hectare: double (nullable = true)\n",
            "\n"
          ]
        }
      ]
    },
    {
      "cell_type": "code",
      "source": [
        "# Show the first few rows\n",
        "data.show(5)"
      ],
      "metadata": {
        "colab": {
          "base_uri": "https://localhost:8080/"
        },
        "id": "JUcyVa4qplEW",
        "outputId": "a746a762-5553-4e6a-c522-fcb0e73e7c2f"
      },
      "execution_count": null,
      "outputs": [
        {
          "output_type": "stream",
          "name": "stdout",
          "text": [
            "+------+---------+-------+-----------------+-------------------+---------------+---------------+-----------------+---------------+----------------------+\n",
            "|Region|Soil_Type|   Crop|      Rainfall_mm|Temperature_Celsius|Fertilizer_Used|Irrigation_Used|Weather_Condition|Days_to_Harvest|Yield_tons_per_hectare|\n",
            "+------+---------+-------+-----------------+-------------------+---------------+---------------+-----------------+---------------+----------------------+\n",
            "|  West|    Sandy| Cotton|897.0772391101236| 27.676966373377603|          false|           true|           Cloudy|            122|     6.555816258223593|\n",
            "| South|     Clay|   Rice|992.6732816189208|  18.02614225436302|           true|           true|            Rainy|            140|       8.5273409063236|\n",
            "| North|     Loam| Barley|147.9980252926104|  29.79404241557257|          false|          false|            Sunny|            106|     1.127443335982929|\n",
            "| North|    Sandy|Soybean|986.8663313367325|  16.64419019137728|          false|           true|            Rainy|            146|     6.517572507555278|\n",
            "| South|     Silt|  Wheat| 730.379174445627| 31.620687370805797|           true|           true|           Cloudy|            110|     7.248251218445701|\n",
            "+------+---------+-------+-----------------+-------------------+---------------+---------------+-----------------+---------------+----------------------+\n",
            "only showing top 5 rows\n",
            "\n"
          ]
        }
      ]
    },
    {
      "cell_type": "code",
      "source": [
        "# ------------------------------------------\n",
        "# 4. Check for Missing Values\n",
        "# ------------------------------------------\n",
        "print(\"\\nMissing Values in Each Column:\")\n",
        "missing_values = data.select(\n",
        "    [(sum(col(column).isNull().cast(\"int\")).alias(column)) for column in data.columns]\n",
        ")\n",
        "missing_values.show()\n"
      ],
      "metadata": {
        "colab": {
          "base_uri": "https://localhost:8080/"
        },
        "id": "FGO39Z47plBu",
        "outputId": "833883fb-9b82-4165-b59b-f74241198d3d"
      },
      "execution_count": null,
      "outputs": [
        {
          "output_type": "stream",
          "name": "stdout",
          "text": [
            "\n",
            "Missing Values in Each Column:\n",
            "+------+---------+----+-----------+-------------------+---------------+---------------+-----------------+---------------+----------------------+\n",
            "|Region|Soil_Type|Crop|Rainfall_mm|Temperature_Celsius|Fertilizer_Used|Irrigation_Used|Weather_Condition|Days_to_Harvest|Yield_tons_per_hectare|\n",
            "+------+---------+----+-----------+-------------------+---------------+---------------+-----------------+---------------+----------------------+\n",
            "|     0|        0|   0|          0|                  0|              0|              0|                0|              0|                     0|\n",
            "+------+---------+----+-----------+-------------------+---------------+---------------+-----------------+---------------+----------------------+\n",
            "\n"
          ]
        }
      ]
    },
    {
      "cell_type": "code",
      "source": [
        "# ------------------------------------------\n",
        "# 5. Handle Categorical Columns\n",
        "#    - StringIndexer & OneHotEncoder\n",
        "# ------------------------------------------\n",
        "categorical_columns = [\"Region\", \"Soil_Type\", \"Crop\", \"Weather_Condition\"]\n",
        "\n",
        "# 5.1 StringIndexer\n",
        "indexers = [\n",
        "    StringIndexer(inputCol=c, outputCol=c + \"_Index\").fit(data)\n",
        "    for c in categorical_columns\n",
        "]\n",
        "for indexer in indexers:\n",
        "    data = indexer.transform(data)\n",
        "\n",
        "# Drop original categorical columns\n",
        "data = data.drop(*categorical_columns)\n",
        "\n",
        "# 5.2 One-hot encode the indexed columns\n",
        "encoder = OneHotEncoder(\n",
        "    inputCols=[c + \"_Index\" for c in categorical_columns],\n",
        "    outputCols=[c + \"_OHE\" for c in categorical_columns]\n",
        ")\n",
        "data = encoder.fit(data).transform(data)\n",
        "\n"
      ],
      "metadata": {
        "id": "SpVbpE0Upk-x"
      },
      "execution_count": null,
      "outputs": []
    },
    {
      "cell_type": "code",
      "source": [
        "# ------------------------------------------\n",
        "# 6. Assemble All Features\n",
        "# ------------------------------------------\n",
        "feature_columns = [\n",
        "    c for c in data.columns\n",
        "    if c not in [\"Yield_tons_per_hectare\"] and not c.endswith(\"_Index\")\n",
        "]\n",
        "\n",
        "assembler = VectorAssembler(inputCols=feature_columns, outputCol=\"features\")\n",
        "full_data = assembler.transform(data).select(\"features\", \"Yield_tons_per_hectare\")"
      ],
      "metadata": {
        "id": "McWOZjZHpk7_"
      },
      "execution_count": null,
      "outputs": []
    },
    {
      "cell_type": "code",
      "source": [
        "# ------------------------------------------\n",
        "# 7. Train/Test Split\n",
        "# ------------------------------------------\n",
        "train_data, test_data = full_data.randomSplit([0.9, 0.1], seed=42)\n"
      ],
      "metadata": {
        "id": "-bbq3iG3pk5X"
      },
      "execution_count": null,
      "outputs": []
    },
    {
      "cell_type": "code",
      "source": [
        "# ------------------------------------------\n",
        "# 8. Train Linear Regression (Full Features)\n",
        "# ------------------------------------------\n",
        "lr = LinearRegression(\n",
        "    featuresCol=\"features\",\n",
        "    labelCol=\"Yield_tons_per_hectare\",\n",
        "    maxIter=100,\n",
        "    regParam=0.0,\n",
        "    elasticNetParam=0.0\n",
        ")\n",
        "\n",
        "lr_model = lr.fit(train_data)"
      ],
      "metadata": {
        "id": "oUFmw9NVpk2u"
      },
      "execution_count": null,
      "outputs": []
    },
    {
      "cell_type": "code",
      "source": [
        "# ------------------------------------------\n",
        "# 9. Evaluate Model Performance\n",
        "# ------------------------------------------\n",
        "predictions = lr_model.transform(test_data)\n",
        "\n",
        "evaluator = RegressionEvaluator(\n",
        "    labelCol=\"Yield_tons_per_hectare\",\n",
        "    predictionCol=\"prediction\",\n",
        "    metricName=\"rmse\"\n",
        ")\n",
        "rmse = evaluator.evaluate(predictions)\n",
        "\n",
        "r2 = RegressionEvaluator(\n",
        "    labelCol=\"Yield_tons_per_hectare\",\n",
        "    predictionCol=\"prediction\",\n",
        "    metricName=\"r2\"\n",
        ").evaluate(predictions)\n",
        "\n",
        "print(f\"RMSE (Full Model) = {rmse:.3f}\")\n",
        "print(f\"R^2 (Full Model)  = {r2:.3f}\")\n",
        "\n",
        "# 9.1 Calculate and Display Model Accuracy\n",
        "# ------------------------------------------\n",
        "# Use Mean Absolute Error (MAE) as another metric\n",
        "mae = RegressionEvaluator(\n",
        "    labelCol=\"Yield_tons_per_hectare\",\n",
        "    predictionCol=\"prediction\",\n",
        "    metricName=\"mae\"\n",
        ").evaluate(predictions)\n",
        "\n",
        "# Calculate accuracy percentage (R^2 * 100 for interpretability)\n",
        "accuracy_percentage = r2 * 100\n",
        "\n",
        "print(f\"Mean Absolute Error (Full Model) = {mae:.3f}\")\n",
        "print(f\"Model Accuracy = {accuracy_percentage:.2f}%\")"
      ],
      "metadata": {
        "colab": {
          "base_uri": "https://localhost:8080/"
        },
        "id": "_GaqXAvppk0J",
        "outputId": "41c333df-0710-40ce-d801-c37ea880aac1"
      },
      "execution_count": null,
      "outputs": [
        {
          "output_type": "stream",
          "name": "stdout",
          "text": [
            "RMSE (Full Model) = 0.500\n",
            "R^2 (Full Model)  = 0.913\n",
            "Mean Absolute Error (Full Model) = 0.399\n",
            "Model Accuracy = 91.31%\n"
          ]
        }
      ]
    },
    {
      "cell_type": "code",
      "source": [
        "# Add residuals for Random Forest predictions\n",
        "predictions_lr = predictions_lr.withColumn(\"Residuals\", col(\"Yield_tons_per_hectare\") - col(\"prediction\"))\n",
        "\n",
        "# Select only the required columns for export\n",
        "export_rf = predictions_lr.select(\n",
        "    \"Yield_tons_per_hectare\",\n",
        "    col(\"prediction\").alias(\"Predicted_Yield\"),\n",
        "    \"Residuals\"\n",
        ")\n",
        "\n",
        "# Export to CSV\n",
        "export_rf.coalesce(1).write.csv(\"test.csv\", header=True, mode=\"overwrite\")\n",
        "print(\"Random Forest predictions with selected features exported successfully!\")\n"
      ],
      "metadata": {
        "colab": {
          "base_uri": "https://localhost:8080/"
        },
        "id": "5ft1H8GmQc3d",
        "outputId": "2ee59647-e8b0-4ae6-85df-7a71b1512918"
      },
      "execution_count": null,
      "outputs": [
        {
          "output_type": "stream",
          "name": "stdout",
          "text": [
            "Random Forest predictions with selected features exported successfully!\n"
          ]
        }
      ]
    }
  ]
}