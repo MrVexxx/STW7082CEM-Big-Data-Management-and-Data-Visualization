{
  "nbformat": 4,
  "nbformat_minor": 0,
  "metadata": {
    "colab": {
      "provenance": []
    },
    "kernelspec": {
      "name": "python3",
      "display_name": "Python 3"
    },
    "language_info": {
      "name": "python"
    }
  },
  "cells": [
    {
      "cell_type": "code",
      "source": [
        "# ------------------------------------------\n",
        "# 1. Import Libraries\n",
        "# ------------------------------------------\n",
        "from pyspark.sql import SparkSession, Row\n",
        "from pyspark.sql.functions import col, when, sum\n",
        "from pyspark.ml.feature import VectorAssembler, StringIndexer, OneHotEncoder\n",
        "from pyspark.ml.regression import DecisionTreeRegressor\n",
        "from pyspark.ml.evaluation import RegressionEvaluator\n",
        "import pandas as pd\n",
        "import matplotlib.pyplot as plt\n",
        "import seaborn as sns\n"
      ],
      "metadata": {
        "id": "wYEgJDl9slPb"
      },
      "execution_count": null,
      "outputs": []
    },
    {
      "cell_type": "code",
      "source": [
        "# ------------------------------------------\n",
        "# 2. Initialize Spark Session\n",
        "# ------------------------------------------\n",
        "spark = SparkSession.builder \\\n",
        "    .appName(\"Crop Yield Prediction - Decision Tree\") \\\n",
        "    .config(\"spark.executor.memory\", \"4g\") \\\n",
        "    .config(\"spark.driver.memory\", \"4g\") \\\n",
        "    .getOrCreate()\n"
      ],
      "metadata": {
        "id": "Pnfg5b7AslR2"
      },
      "execution_count": null,
      "outputs": []
    },
    {
      "cell_type": "code",
      "source": [
        "# ------------------------------------------\n",
        "# 3. Load Dataset\n",
        "# ------------------------------------------\n",
        "file_path = \"crop_yield.csv\"\n",
        "data = spark.read.csv(file_path, header=True, inferSchema=True)\n",
        "\n",
        "if data.count() > 0:\n",
        "    print(\"Dataset loaded successfully!\")\n",
        "else:\n",
        "    print(\"No data found in the dataset.\")\n",
        "\n",
        "\n",
        "\n"
      ],
      "metadata": {
        "colab": {
          "base_uri": "https://localhost:8080/"
        },
        "id": "5WlZPrqnslUt",
        "outputId": "1a27b636-ade0-4001-ff69-37372d7acb67"
      },
      "execution_count": null,
      "outputs": [
        {
          "output_type": "stream",
          "name": "stdout",
          "text": [
            "Dataset loaded successfully!\n"
          ]
        }
      ]
    },
    {
      "cell_type": "code",
      "source": [
        "# Display dataset schema and preview data\n",
        "data.printSchema()"
      ],
      "metadata": {
        "colab": {
          "base_uri": "https://localhost:8080/"
        },
        "id": "jJY77hnlyA-U",
        "outputId": "ecf899f2-c332-4289-d2ef-98682e6bd5ad"
      },
      "execution_count": null,
      "outputs": [
        {
          "output_type": "stream",
          "name": "stdout",
          "text": [
            "root\n",
            " |-- Region: string (nullable = true)\n",
            " |-- Soil_Type: string (nullable = true)\n",
            " |-- Crop: string (nullable = true)\n",
            " |-- Rainfall_mm: double (nullable = true)\n",
            " |-- Temperature_Celsius: double (nullable = true)\n",
            " |-- Fertilizer_Used: boolean (nullable = true)\n",
            " |-- Irrigation_Used: boolean (nullable = true)\n",
            " |-- Weather_Condition: string (nullable = true)\n",
            " |-- Days_to_Harvest: integer (nullable = true)\n",
            " |-- Yield_tons_per_hectare: double (nullable = true)\n",
            "\n"
          ]
        }
      ]
    },
    {
      "cell_type": "code",
      "source": [
        "data.show(5)"
      ],
      "metadata": {
        "colab": {
          "base_uri": "https://localhost:8080/"
        },
        "id": "phvBkKw7yAvO",
        "outputId": "f4ce71dc-658d-409d-fc75-264be20b5d87"
      },
      "execution_count": null,
      "outputs": [
        {
          "output_type": "stream",
          "name": "stdout",
          "text": [
            "+------+---------+-------+-----------------+-------------------+---------------+---------------+-----------------+---------------+----------------------+\n",
            "|Region|Soil_Type|   Crop|      Rainfall_mm|Temperature_Celsius|Fertilizer_Used|Irrigation_Used|Weather_Condition|Days_to_Harvest|Yield_tons_per_hectare|\n",
            "+------+---------+-------+-----------------+-------------------+---------------+---------------+-----------------+---------------+----------------------+\n",
            "|  West|    Sandy| Cotton|897.0772391101236| 27.676966373377603|          false|           true|           Cloudy|            122|     6.555816258223593|\n",
            "| South|     Clay|   Rice|992.6732816189208|  18.02614225436302|           true|           true|            Rainy|            140|       8.5273409063236|\n",
            "| North|     Loam| Barley|147.9980252926104|  29.79404241557257|          false|          false|            Sunny|            106|     1.127443335982929|\n",
            "| North|    Sandy|Soybean|986.8663313367325|  16.64419019137728|          false|           true|            Rainy|            146|     6.517572507555278|\n",
            "| South|     Silt|  Wheat| 730.379174445627| 31.620687370805797|           true|           true|           Cloudy|            110|     7.248251218445701|\n",
            "+------+---------+-------+-----------------+-------------------+---------------+---------------+-----------------+---------------+----------------------+\n",
            "only showing top 5 rows\n",
            "\n"
          ]
        }
      ]
    },
    {
      "cell_type": "code",
      "source": [
        "# ------------------------------------------\n",
        "# 4. Check for Missing Values\n",
        "# ------------------------------------------\n",
        "print(\"\\nMissing Values in Each Column:\")\n",
        "missing_values = data.select(\n",
        "    [(sum(col(column).isNull().cast(\"int\")).alias(column)) for column in data.columns]\n",
        ")\n",
        "missing_values.show()\n"
      ],
      "metadata": {
        "colab": {
          "base_uri": "https://localhost:8080/"
        },
        "id": "8zemn4VrslXd",
        "outputId": "d038b4c7-fb6d-4bfe-b5ed-8490504f3ad1"
      },
      "execution_count": null,
      "outputs": [
        {
          "output_type": "stream",
          "name": "stdout",
          "text": [
            "\n",
            "Missing Values in Each Column:\n",
            "+------+---------+----+-----------+-------------------+---------------+---------------+-----------------+---------------+----------------------+\n",
            "|Region|Soil_Type|Crop|Rainfall_mm|Temperature_Celsius|Fertilizer_Used|Irrigation_Used|Weather_Condition|Days_to_Harvest|Yield_tons_per_hectare|\n",
            "+------+---------+----+-----------+-------------------+---------------+---------------+-----------------+---------------+----------------------+\n",
            "|     0|        0|   0|          0|                  0|              0|              0|                0|              0|                     0|\n",
            "+------+---------+----+-----------+-------------------+---------------+---------------+-----------------+---------------+----------------------+\n",
            "\n"
          ]
        }
      ]
    },
    {
      "cell_type": "code",
      "source": [
        "# ------------------------------------------\n",
        "# 5. Handle Categorical Columns\n",
        "# ------------------------------------------\n",
        "categorical_columns = [\"Region\", \"Soil_Type\", \"Weather_Condition\"]  # Exclude 'Crop'\n",
        "crop_column = \"Crop\"\n",
        "\n",
        "# StringIndexer for categorical columns\n",
        "indexers = [\n",
        "    StringIndexer(inputCol=c, outputCol=c + \"_Index\").fit(data)\n",
        "    for c in categorical_columns + [crop_column]\n",
        "]\n",
        "\n",
        "for indexer in indexers:\n",
        "    data = indexer.transform(data)\n",
        "\n",
        "# Keep the original 'Crop' column for reference during prediction\n",
        "data = data.withColumnRenamed(crop_column, \"Crop_Name\")\n",
        "\n",
        "# Drop other categorical columns\n",
        "data = data.drop(*categorical_columns)\n",
        "\n",
        "# One-hot encode the indexed columns\n",
        "encoder = OneHotEncoder(\n",
        "    inputCols=[c + \"_Index\" for c in categorical_columns],\n",
        "    outputCols=[c + \"_OHE\" for c in categorical_columns]\n",
        ")\n",
        "data = encoder.fit(data).transform(data)\n"
      ],
      "metadata": {
        "id": "xh8RqOYsslad"
      },
      "execution_count": null,
      "outputs": []
    },
    {
      "cell_type": "code",
      "source": [
        "# ------------------------------------------\n",
        "# 6. Assemble Features\n",
        "# ------------------------------------------\n",
        "feature_columns = [\n",
        "    c for c in data.columns\n",
        "    if c not in [\"Yield_tons_per_hectare\", \"Crop_Name\", crop_column + \"_Index\"]\n",
        "]\n",
        "\n",
        "assembler = VectorAssembler(inputCols=feature_columns, outputCol=\"features\")\n",
        "full_data = assembler.transform(data).select(\"features\", \"Yield_tons_per_hectare\", \"Crop_Name\")\n"
      ],
      "metadata": {
        "id": "TRCX36c9slc3"
      },
      "execution_count": null,
      "outputs": []
    },
    {
      "cell_type": "code",
      "source": [
        "# ------------------------------------------\n",
        "# 7. Train/Test Split\n",
        "# ------------------------------------------\n",
        "train_data, test_data = full_data.randomSplit([0.8, 0.2], seed=42)\n"
      ],
      "metadata": {
        "id": "9PadmFN2slfn"
      },
      "execution_count": null,
      "outputs": []
    },
    {
      "cell_type": "code",
      "source": [
        "# ------------------------------------------\n",
        "# 8. Train Initial Decision Tree\n",
        "# ------------------------------------------\n",
        "dt = DecisionTreeRegressor(\n",
        "    featuresCol=\"features\",\n",
        "    labelCol=\"Yield_tons_per_hectare\",\n",
        "    maxDepth=5,\n",
        "    seed=42\n",
        ")\n",
        "dt_model = dt.fit(train_data)\n"
      ],
      "metadata": {
        "id": "ypKMgy0TsllP"
      },
      "execution_count": null,
      "outputs": []
    },
    {
      "cell_type": "code",
      "source": [
        "# ------------------------------------------\n",
        "# 9. Evaluate Initial Model\n",
        "# ------------------------------------------\n",
        "predictions = dt_model.transform(test_data)\n",
        "\n",
        "evaluator = RegressionEvaluator(\n",
        "    labelCol=\"Yield_tons_per_hectare\",\n",
        "    predictionCol=\"prediction\",\n",
        "    metricName=\"rmse\"\n",
        ")\n",
        "rmse = evaluator.evaluate(predictions)\n",
        "\n",
        "r2 = RegressionEvaluator(\n",
        "    labelCol=\"Yield_tons_per_hectare\",\n",
        "    predictionCol=\"prediction\",\n",
        "    metricName=\"r2\"\n",
        ").evaluate(predictions)\n",
        "\n",
        "print(f\"RMSE (Full Model) = {rmse:.3f}\")\n",
        "print(f\"R² (Full Model)  = {r2:.3f}\")\n",
        "\n",
        "# Use Mean Absolute Error (MAE) as another metric\n",
        "mae = RegressionEvaluator(\n",
        "    labelCol=\"Yield_tons_per_hectare\",\n",
        "    predictionCol=\"prediction\",\n",
        "    metricName=\"mae\"\n",
        ").evaluate(predictions)\n",
        "\n",
        "# Calculate accuracy percentage (R^2 * 100 for interpretability)\n",
        "accuracy_percentage = r2 * 100\n",
        "\n",
        "print(f\"Mean Absolute Error (Decision Tree Full Model) = {mae:.3f}\")\n",
        "print(f\"Decision Tree Model Accuracy = {accuracy_percentage:.2f}%\")\n"
      ],
      "metadata": {
        "colab": {
          "base_uri": "https://localhost:8080/"
        },
        "id": "0kNmRzXfsloO",
        "outputId": "5723ceaf-9748-4ec7-9c0e-1f62c6cdbbce"
      },
      "execution_count": null,
      "outputs": [
        {
          "output_type": "stream",
          "name": "stdout",
          "text": [
            "RMSE (Full Model) = 0.546\n",
            "R² (Full Model)  = 0.896\n",
            "Mean Absolute Error (Decision Tree Full Model) = 0.436\n",
            "Decision Tree Model Accuracy = 89.65%\n"
          ]
        }
      ]
    },
    {
      "cell_type": "code",
      "source": [
        "# ------------------------------------------\n",
        "# 10. Extract Feature Importance\n",
        "# ------------------------------------------\n",
        "importances_array = dt_model.featureImportances.toArray()\n",
        "\n",
        "feature_importance_dict = {\n",
        "    name: imp for name, imp in zip(feature_columns, importances_array)\n",
        "}\n",
        "\n",
        "sorted_features_by_imp = sorted(\n",
        "    feature_importance_dict.items(),\n",
        "    key=lambda x: x[1],\n",
        "    reverse=True\n",
        ")\n",
        "\n",
        "print(\"\\nDecision Tree Feature Importances:\")\n",
        "for feat, imp_val in sorted_features_by_imp:\n",
        "    print(f\"{feat}: {imp_val}\")\n",
        "\n",
        "# Identify the top 3 features\n",
        "top_3_features = [feat for feat, _ in sorted_features_by_imp[:3]]\n",
        "print(\"\\nTop 3 Features:\", top_3_features)\n"
      ],
      "metadata": {
        "colab": {
          "base_uri": "https://localhost:8080/"
        },
        "id": "kc5lWgGLslq-",
        "outputId": "f55e2163-7a08-4b3f-ebae-d1a39adc35a0"
      },
      "execution_count": null,
      "outputs": [
        {
          "output_type": "stream",
          "name": "stdout",
          "text": [
            "\n",
            "Decision Tree Feature Importances:\n",
            "Rainfall_mm: 0.6422548834665147\n",
            "Fertilizer_Used: 0.21861117683157716\n",
            "Irrigation_Used: 0.13913393970190813\n",
            "Temperature_Celsius: 0.0\n",
            "Days_to_Harvest: 0.0\n",
            "Region_Index: 0.0\n",
            "Soil_Type_Index: 0.0\n",
            "Weather_Condition_Index: 0.0\n",
            "Region_OHE: 0.0\n",
            "Soil_Type_OHE: 0.0\n",
            "Weather_Condition_OHE: 0.0\n",
            "\n",
            "Top 3 Features: ['Rainfall_mm', 'Fertilizer_Used', 'Irrigation_Used']\n"
          ]
        }
      ]
    },
    {
      "cell_type": "code",
      "source": [
        "# ------------------------------------------\n",
        "# 11. Retrain Model with Top Features\n",
        "# ------------------------------------------\n",
        "selected_data = data.select(\n",
        "    *top_3_features, \"Yield_tons_per_hectare\"\n",
        ")\n",
        "\n",
        "assembler_3 = VectorAssembler(\n",
        "    inputCols=top_3_features,\n",
        "    outputCol=\"features\"\n",
        ")\n",
        "final_data_3 = assembler_3.transform(selected_data).select(\"features\", \"Yield_tons_per_hectare\")\n",
        "\n",
        "train_data_3, test_data_3 = final_data_3.randomSplit([0.8, 0.2], seed=42)\n",
        "\n",
        "dt_3 = DecisionTreeRegressor(\n",
        "    featuresCol=\"features\",\n",
        "    labelCol=\"Yield_tons_per_hectare\",\n",
        "    maxDepth=30,\n",
        "    seed=42\n",
        ")\n",
        "dt_model_3 = dt_3.fit(train_data_3)"
      ],
      "metadata": {
        "id": "URtnnEm2ybfY"
      },
      "execution_count": null,
      "outputs": []
    },
    {
      "cell_type": "code",
      "source": [
        "\n",
        "\n",
        "# Evaluate retrained model\n",
        "predictions_3 = dt_model_3.transform(test_data_3)\n",
        "\n",
        "rmse_3 = evaluator.evaluate(predictions_3)\n",
        "r2_3 = RegressionEvaluator(\n",
        "    labelCol=\"Yield_tons_per_hectare\",\n",
        "    predictionCol=\"prediction\",\n",
        "    metricName=\"r2\"\n",
        ").evaluate(predictions_3)\n",
        "\n",
        "print(f\"RMSE (Top 3 Features) = {rmse_3:.3f}\")\n",
        "print(f\"R² (Top 3 Features)  = {r2_3:.3f}\")\n",
        "\n",
        "# Use Mean Absolute Error (MAE) as another metric\n",
        "mae_3 = RegressionEvaluator(\n",
        "    labelCol=\"Yield_tons_per_hectare\",\n",
        "    predictionCol=\"prediction\",\n",
        "    metricName=\"mae\"\n",
        ").evaluate(predictions_3)\n",
        "\n",
        "# Calculate accuracy percentage (R^2 * 100 for interpretability)\n",
        "accuracy_percentage_3 = r2_3 * 100\n",
        "\n",
        "print(f\"Mean Absolute Error (Reduced Decision Tree Model) = {mae_3:.3f}\")\n",
        "print(f\"Reduced Decision Tree Model Accuracy = {accuracy_percentage_3:.2f}%\")\n"
      ],
      "metadata": {
        "colab": {
          "base_uri": "https://localhost:8080/"
        },
        "id": "1cGo1ar2sltw",
        "outputId": "83740427-62f2-41e6-e4b2-e6ca9e235e28"
      },
      "execution_count": null,
      "outputs": [
        {
          "output_type": "stream",
          "name": "stdout",
          "text": [
            "RMSE (Top 3 Features) = 0.523\n",
            "R² (Top 3 Features)  = 0.905\n",
            "Mean Absolute Error (Reduced Decision Tree Model) = 0.418\n",
            "Reduced Decision Tree Model Accuracy = 90.52%\n"
          ]
        }
      ]
    },
    {
      "cell_type": "code",
      "source": [
        "# ------------------------------------------\n",
        "# 12. Predict Crop Yield with User Input\n",
        "# ------------------------------------------\n",
        "def validate_input(value, feature_name, min_value, max_value):\n",
        "    try:\n",
        "        value = float(value)\n",
        "        if min_value is not None and max_value is not None:\n",
        "            if value < min_value or value > max_value:\n",
        "                print(f\"Error: {feature_name} value must be between {min_value} and {max_value}.\")\n",
        "                return None\n",
        "        return value\n",
        "    except ValueError:\n",
        "        print(f\"Invalid input for {feature_name}. Please enter a numeric value.\")\n",
        "        return None\n",
        "\n",
        "def predict_crop_yield(dt_model, feature_columns, crop_mapping):\n",
        "    feature_ranges = {\n",
        "        \"Rainfall_mm\": (100.0, 999.99),\n",
        "        \"Fertilizer_Used\": (0.0, 1.0),\n",
        "        \"Irrigation_Used\": (0.0, 1.0),\n",
        "        \"Crop_Index\": (0, max(crop_mapping.keys()))  # Assuming Crop_Index starts from 0\n",
        "    }\n",
        "\n",
        "    print(\"\\nEnter the following feature values:\")\n",
        "    user_input = []\n",
        "    for feature in feature_columns:\n",
        "        while True:\n",
        "            value = input(f\"Enter value for {feature}: \")\n",
        "            validated_value = validate_input(value, feature, *feature_ranges.get(feature, (None, None)))\n",
        "            if validated_value is not None:\n",
        "                user_input.append(validated_value)\n",
        "                break\n",
        "\n",
        "    user_input_rdd = spark.sparkContext.parallelize([Row(**dict(zip(feature_columns, user_input)))])\n",
        "    user_input_df = spark.createDataFrame(user_input_rdd)\n",
        "\n",
        "    assembler = VectorAssembler(inputCols=feature_columns, outputCol=\"features\")\n",
        "    user_input_vector = assembler.transform(user_input_df).select(\"features\")\n",
        "\n",
        "    prediction = dt_model.transform(user_input_vector).select(\"prediction\").collect()[0][\"prediction\"]\n",
        "    predicted_crop = crop_mapping[int(user_input[3])]  # Assuming Crop_Index is the 4th feature\n",
        "    print(f\"\\nPredicted Crop Yield (tons per hectare): {prediction:.3f}\")\n",
        "    print(f\"Predicted Crop: {predicted_crop}\")\n",
        "\n",
        "crop_mapping = {row[\"Crop_Index\"]: row[\"Crop_Name\"] for row in data.select(\"Crop_Name\", \"Crop_Index\").distinct().collect()}\n",
        "\n",
        "print(\"\\nCrop Index Mapping:\")\n",
        "for crop_index, crop_name in crop_mapping.items():\n",
        "    print(f\"{int(crop_index)} = {crop_name}\")\n",
        "\n",
        "# Example Usage\n",
        "top_3_features = [\"Rainfall_mm\", \"Fertilizer_Used\", \"Irrigation_Used\", \"Crop_Index\"]\n",
        "predict_crop_yield(dt_model_3, top_3_features, crop_mapping)\n"
      ],
      "metadata": {
        "colab": {
          "base_uri": "https://localhost:8080/"
        },
        "id": "pV8KWnyCslwY",
        "outputId": "ea6f3b51-c122-4558-e3b9-b47457fe8e0d"
      },
      "execution_count": null,
      "outputs": [
        {
          "output_type": "stream",
          "name": "stdout",
          "text": [
            "\n",
            "Crop Index Mapping:\n",
            "4 = Cotton\n",
            "1 = Rice\n",
            "2 = Barley\n",
            "5 = Soybean\n",
            "0 = Maize\n",
            "3 = Wheat\n",
            "\n",
            "Enter the following feature values:\n",
            "Enter value for Rainfall_mm: 500\n",
            "Enter value for Fertilizer_Used: 0\n",
            "Enter value for Irrigation_Used: 1\n",
            "Enter value for Crop_Index: 3\n",
            "\n",
            "Predicted Crop Yield (tons per hectare): 4.246\n",
            "Predicted Crop: Wheat\n"
          ]
        }
      ]
    },
    {
      "cell_type": "code",
      "source": [
        "# Select the relevant columns from the predictions DataFrame\n",
        "export_data = predictions.select(\"Yield_tons_per_hectare\", \"prediction\")\n",
        "\n",
        "# Export to a CSV file\n",
        "export_data.coalesce(1).write.csv(\"dt_predictions.csv\", header=True, mode=\"overwrite\")\n",
        "\n",
        "print(\"Dataset exported successfully to 'dt_predictions.csv'\")\n"
      ],
      "metadata": {
        "colab": {
          "base_uri": "https://localhost:8080/"
        },
        "id": "u_pHQyXdgjAd",
        "outputId": "565d258d-f4d3-475c-bed1-cdb993bf99e4"
      },
      "execution_count": null,
      "outputs": [
        {
          "output_type": "stream",
          "name": "stdout",
          "text": [
            "Dataset exported successfully to 'dt_predictions.csv'\n"
          ]
        }
      ]
    }
  ]
}